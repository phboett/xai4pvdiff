{
 "cells": [
  {
   "cell_type": "markdown",
   "metadata": {
    "collapsed": false
   },
   "source": [
    "## Preprocessing of radiation data\n",
    "In this Jupyter notebook we preprocess the data on global radiation used as a descriptive feature. Two data sets form the basis for this feature\n",
    "    - A dataset on the average \"yearly average global radiation on an optimally inclined surface [$\\frac{W}{m^2}$]\", a set of the \"SARAH Solar Radiation Data\" provided by the Joint Research Centre of the European Commission (Link: https://joint-research-centre.ec.europa.eu/pvgis-photovoltaic-geographical-information-system/pvgis-data-download/sarah-solar-radiation-data_en).\n",
    "    - A registry of all municipalities (GV-ISys) in 2019 provided by the Federal Statistical Office and the Statistical Regional Offices (Link: https://www.destatis.de/DE/Themen/Laender-Regionen/Regionales/Gemeindeverzeichnis/Administrativ/Archiv/GVAuszugJ/31122019_Auszug_GV.html).\n",
    "The ascii grid file provides the global radiation on a resolution of 0.05° for a large area including Germany. Longitudinal and latitudinal coordinates characterize (the corners of) the grid cells.\n",
    "The registry includes longitude and latitude of the municipalities. We can use these to find the corresponding values of global radiation for all municipalities. To obtain data of global radiation on the level of municipality associations, we take the average the global radiation of all municipalities belonging to a municipality association."
   ]
  },
  {
   "cell_type": "code",
   "execution_count": 1,
   "metadata": {
    "ExecuteTime": {
     "end_time": "2023-06-30T15:13:24.302351566Z",
     "start_time": "2023-06-30T15:13:24.265553164Z"
    },
    "collapsed": false
   },
   "outputs": [],
   "source": [
    "import os\n",
    "import pandas as pd\n",
    "import numpy as np\n",
    "\n",
    "os.chdir(\"../../..\")\n",
    "from xai_green_tech_adoption.utils.utils import *\n",
    "\n",
    "pd.options.mode.chained_assignment = None"
   ]
  },
  {
   "cell_type": "markdown",
   "metadata": {
    "collapsed": false
   },
   "source": [
    "#### 1. Read registry of municipalities and deduce ags and rs"
   ]
  },
  {
   "cell_type": "code",
   "execution_count": 2,
   "metadata": {
    "ExecuteTime": {
     "end_time": "2023-06-30T15:13:24.385863061Z",
     "start_time": "2023-06-30T15:13:24.274548213Z"
    },
    "collapsed": false
   },
   "outputs": [
    {
     "data": {
      "text/html": [
       "<div>\n",
       "<style scoped>\n",
       "    .dataframe tbody tr th:only-of-type {\n",
       "        vertical-align: middle;\n",
       "    }\n",
       "\n",
       "    .dataframe tbody tr th {\n",
       "        vertical-align: top;\n",
       "    }\n",
       "\n",
       "    .dataframe thead th {\n",
       "        text-align: right;\n",
       "    }\n",
       "</style>\n",
       "<table border=\"1\" class=\"dataframe\">\n",
       "  <thead>\n",
       "    <tr style=\"text-align: right;\">\n",
       "      <th></th>\n",
       "      <th>Land</th>\n",
       "      <th>RB</th>\n",
       "      <th>Kreis</th>\n",
       "      <th>VB</th>\n",
       "      <th>Gem</th>\n",
       "      <th>Längengrad</th>\n",
       "      <th>Breitengrad</th>\n",
       "    </tr>\n",
       "  </thead>\n",
       "  <tbody>\n",
       "    <tr>\n",
       "      <th>0</th>\n",
       "      <td>Gebietsstand am 31.12.2019 (Jahr)</td>\n",
       "      <td>NaN</td>\n",
       "      <td>NaN</td>\n",
       "      <td>NaN</td>\n",
       "      <td>NaN</td>\n",
       "      <td>Zuordnungsstand am 31.12.2019</td>\n",
       "      <td>NaN</td>\n",
       "    </tr>\n",
       "    <tr>\n",
       "      <th>1</th>\n",
       "      <td>NaN</td>\n",
       "      <td>NaN</td>\n",
       "      <td>NaN</td>\n",
       "      <td>NaN</td>\n",
       "      <td>NaN</td>\n",
       "      <td>NaN</td>\n",
       "      <td>NaN</td>\n",
       "    </tr>\n",
       "    <tr>\n",
       "      <th>2</th>\n",
       "      <td>01</td>\n",
       "      <td>NaN</td>\n",
       "      <td>NaN</td>\n",
       "      <td>NaN</td>\n",
       "      <td>NaN</td>\n",
       "      <td>NaN</td>\n",
       "      <td>NaN</td>\n",
       "    </tr>\n",
       "    <tr>\n",
       "      <th>3</th>\n",
       "      <td>01</td>\n",
       "      <td>0</td>\n",
       "      <td>01</td>\n",
       "      <td>NaN</td>\n",
       "      <td>NaN</td>\n",
       "      <td>NaN</td>\n",
       "      <td>NaN</td>\n",
       "    </tr>\n",
       "    <tr>\n",
       "      <th>4</th>\n",
       "      <td>01</td>\n",
       "      <td>0</td>\n",
       "      <td>01</td>\n",
       "      <td>0000</td>\n",
       "      <td>NaN</td>\n",
       "      <td>NaN</td>\n",
       "      <td>NaN</td>\n",
       "    </tr>\n",
       "    <tr>\n",
       "      <th>5</th>\n",
       "      <td>01</td>\n",
       "      <td>0</td>\n",
       "      <td>01</td>\n",
       "      <td>0000</td>\n",
       "      <td>000</td>\n",
       "      <td>9,43751</td>\n",
       "      <td>54.782520</td>\n",
       "    </tr>\n",
       "    <tr>\n",
       "      <th>6</th>\n",
       "      <td>01</td>\n",
       "      <td>0</td>\n",
       "      <td>02</td>\n",
       "      <td>NaN</td>\n",
       "      <td>NaN</td>\n",
       "      <td>NaN</td>\n",
       "      <td>NaN</td>\n",
       "    </tr>\n",
       "    <tr>\n",
       "      <th>7</th>\n",
       "      <td>01</td>\n",
       "      <td>0</td>\n",
       "      <td>02</td>\n",
       "      <td>0000</td>\n",
       "      <td>NaN</td>\n",
       "      <td>NaN</td>\n",
       "      <td>NaN</td>\n",
       "    </tr>\n",
       "    <tr>\n",
       "      <th>8</th>\n",
       "      <td>01</td>\n",
       "      <td>0</td>\n",
       "      <td>02</td>\n",
       "      <td>0000</td>\n",
       "      <td>000</td>\n",
       "      <td>10,13727</td>\n",
       "      <td>54.321775</td>\n",
       "    </tr>\n",
       "    <tr>\n",
       "      <th>9</th>\n",
       "      <td>01</td>\n",
       "      <td>0</td>\n",
       "      <td>03</td>\n",
       "      <td>NaN</td>\n",
       "      <td>NaN</td>\n",
       "      <td>NaN</td>\n",
       "      <td>NaN</td>\n",
       "    </tr>\n",
       "  </tbody>\n",
       "</table>\n",
       "</div>"
      ],
      "text/plain": [
       "                                Land   RB Kreis    VB  Gem  \\\n",
       "0  Gebietsstand am 31.12.2019 (Jahr)  NaN   NaN   NaN  NaN   \n",
       "1                                NaN  NaN   NaN   NaN  NaN   \n",
       "2                                 01  NaN   NaN   NaN  NaN   \n",
       "3                                 01    0    01   NaN  NaN   \n",
       "4                                 01    0    01  0000  NaN   \n",
       "5                                 01    0    01  0000  000   \n",
       "6                                 01    0    02   NaN  NaN   \n",
       "7                                 01    0    02  0000  NaN   \n",
       "8                                 01    0    02  0000  000   \n",
       "9                                 01    0    03   NaN  NaN   \n",
       "\n",
       "                      Längengrad  Breitengrad  \n",
       "0  Zuordnungsstand am 31.12.2019          NaN  \n",
       "1                            NaN          NaN  \n",
       "2                            NaN          NaN  \n",
       "3                            NaN          NaN  \n",
       "4                            NaN          NaN  \n",
       "5                        9,43751    54.782520  \n",
       "6                            NaN          NaN  \n",
       "7                            NaN          NaN  \n",
       "8                       10,13727    54.321775  \n",
       "9                            NaN          NaN  "
      ]
     },
     "metadata": {},
     "output_type": "display_data"
    }
   ],
   "source": [
    "# import municipality registry\n",
    "df_m_registry_raw = pd.read_csv(\n",
    "    \"data/raw_data/descriptive_features/Data_Radiation/Verzeichnis_selbstaendige_Gemeinden_2019.csv\",\n",
    "    sep=\";\",\n",
    "    skiprows=3,\n",
    "    usecols=[\"Land\", \"RB\", \"Kreis\", \"VB\", \"Gem\", \"Längengrad\", \"Breitengrad\"],\n",
    "    dtype={\"Land\": \"str\", \"RB\": \"str\", \"Kreis\": \"str\", \"VB\": \"str\", \"Gem\": \"str\"},\n",
    "    decimal=\",\",\n",
    ")\n",
    "display(df_m_registry_raw.head(10))\n",
    "df_m_registry_raw.rename(\n",
    "    {\n",
    "        \"Land\": col_state_code,\n",
    "        \"RB\": col_nuts2_code,\n",
    "        \"Kreis\": col_county_code,\n",
    "        \"VB\": col_ma_code,\n",
    "        \"Gem\": col_m_code,\n",
    "        \"Längengrad\": col_longi,\n",
    "        \"Breitengrad\": col_lati,\n",
    "    },\n",
    "    inplace=True,\n",
    "    axis=1,\n",
    ")"
   ]
  },
  {
   "cell_type": "code",
   "execution_count": 3,
   "metadata": {
    "ExecuteTime": {
     "end_time": "2023-06-30T15:13:24.447746330Z",
     "start_time": "2023-06-30T15:13:24.384422702Z"
    },
    "collapsed": false
   },
   "outputs": [],
   "source": [
    "df_m_registry_raw = df_m_registry_raw[2:]\n",
    "df_m_registry_raw = df_m_registry_raw[df_m_registry_raw[col_m_code].notna()]\n",
    "df_m_registry_raw[col_longi] = df_m_registry_raw[col_longi].replace(\n",
    "    {\",\": \".\"}, regex=True\n",
    ")\n",
    "df_m_registry_raw[col_longi] = df_m_registry_raw[col_longi].astype(float)\n",
    "# derive ags of municipalities\n",
    "df_m_registry_raw[col_id_m] = (\n",
    "    df_m_registry_raw[col_state_code]\n",
    "    + df_m_registry_raw[col_nuts2_code]\n",
    "    + df_m_registry_raw[col_county_code]\n",
    "    + df_m_registry_raw[col_m_code]\n",
    ")\n",
    "df_m_registry_raw[col_id_m] = df_m_registry_raw[col_id_m].astype(int)\n",
    "# derive rs of ma the m belongs to\n",
    "df_m_registry_raw[col_id_ma] = (\n",
    "    df_m_registry_raw[col_state_code]\n",
    "    + df_m_registry_raw[col_nuts2_code]\n",
    "    + df_m_registry_raw[col_county_code]\n",
    "    + df_m_registry_raw[col_ma_code]\n",
    ")\n",
    "df_m_registry_raw[col_id_ma] = df_m_registry_raw[col_id_ma].astype(int)"
   ]
  },
  {
   "cell_type": "code",
   "execution_count": 4,
   "metadata": {
    "ExecuteTime": {
     "end_time": "2023-06-30T15:13:26.080406764Z",
     "start_time": "2023-06-30T15:13:24.428717563Z"
    },
    "collapsed": false
   },
   "outputs": [
    {
     "name": "stdout",
     "output_type": "stream",
     "text": [
      "There are 215 municipalities which belong to municipality associations (according to their RS) that are not covered by INKAR. My intention is to only include approximation of the global radiation. Thus, I drop these municipalities.\n"
     ]
    }
   ],
   "source": [
    "# Check whether all ma's contained in the INKAR dataset are also considered in computations based on registry\n",
    "df_inkar_ma_id = pd.read_csv(\n",
    "    \"data/intermediate_data/preprocessed_inkar_data.csv\", sep=\";\", usecols=[col_id_ma]\n",
    ")\n",
    "assert (\n",
    "    len(\n",
    "        [\n",
    "            ma_missing\n",
    "            for ma_missing in list(df_inkar_ma_id[col_id_ma])\n",
    "            if ma_missing not in list(df_m_registry_raw[col_id_ma].unique())\n",
    "        ]\n",
    "    )\n",
    "    == 0\n",
    "), \"Attention: Irradiation data is missing for some municipality associations contained in the INKAR dataset.\"\n",
    "# only keep rows if INKAR contains ma\n",
    "print(\n",
    "    f\"There are {df_m_registry_raw[~df_m_registry_raw[col_id_ma].isin(list(df_inkar_ma_id[col_id_ma]))].shape[0]} municipalities which belong to municipality associations (according to their RS) that are not covered by INKAR. My intention is to only include approximation of the global radiation. Thus, I drop these municipalities.\"\n",
    ")\n",
    "df_m_registry = df_m_registry_raw[\n",
    "    df_m_registry_raw[col_id_ma].isin(list(df_inkar_ma_id[col_id_ma]))\n",
    "]"
   ]
  },
  {
   "cell_type": "markdown",
   "metadata": {
    "collapsed": false
   },
   "source": [
    "### 2. Read and match global irradiance"
   ]
  },
  {
   "cell_type": "code",
   "execution_count": 5,
   "metadata": {
    "ExecuteTime": {
     "end_time": "2023-06-30T15:13:26.513062493Z",
     "start_time": "2023-06-30T15:13:26.082715062Z"
    },
    "collapsed": false
   },
   "outputs": [],
   "source": [
    "# import grid-data on global irradiance\n",
    "radiation_grid_raw = np.loadtxt(\n",
    "    \"data/raw_data/descriptive_features/Data_Radiation/gh_opt_year.asc\", skiprows=6\n",
    ")\n",
    "\n",
    "# meta data of dataset\n",
    "\n",
    "# range of latitude: 40°S, 62°30' N\n",
    "# positive values -> N, negative values -> S\n",
    "latitude_south_end = -40\n",
    "\n",
    "# range of longitude: 65°W, 128°E\n",
    "# positive values -> East, negative values -> West\n",
    "longitude_west_end = -65\n",
    "\n",
    "# cell grid size: 3', corresponds to 0.05°\n",
    "cell_grid_size = 0.05\n",
    "\n",
    "# coordinates in Germany are north and east -> positive values\n",
    "# example: Munich: 48°N, 11°E"
   ]
  },
  {
   "cell_type": "code",
   "execution_count": 6,
   "metadata": {
    "ExecuteTime": {
     "end_time": "2023-06-30T15:13:26.538156383Z",
     "start_time": "2023-06-30T15:13:26.515794484Z"
    },
    "collapsed": false
   },
   "outputs": [],
   "source": [
    "# NaNs are encoded as -9999\n",
    "radiation_grid_raw = np.where(radiation_grid_raw == -9999, np.nan, radiation_grid_raw)"
   ]
  },
  {
   "cell_type": "code",
   "execution_count": 7,
   "metadata": {
    "ExecuteTime": {
     "end_time": "2023-06-30T15:13:26.549308150Z",
     "start_time": "2023-06-30T15:13:26.539275211Z"
    },
    "collapsed": false
   },
   "outputs": [],
   "source": [
    "def determine_radiation(m):\n",
    "    # The ceil of the fraction yields the column number the coordinate is contained in. Indices starting at zero lead to the subtraction of one.\n",
    "    longi_col = int(np.ceil((m[col_longi] - longitude_west_end) / cell_grid_size) - 1)\n",
    "    lati_pos_from_south = np.ceil((m[col_lati] - latitude_south_end) / cell_grid_size)\n",
    "    lati_row = int(radiation_grid_raw.shape[0] - lati_pos_from_south - 1)\n",
    "    return radiation_grid_raw[lati_row, longi_col]"
   ]
  },
  {
   "cell_type": "code",
   "execution_count": 8,
   "metadata": {
    "ExecuteTime": {
     "end_time": "2023-06-30T15:13:26.709744539Z",
     "start_time": "2023-06-30T15:13:26.544191058Z"
    },
    "collapsed": false
   },
   "outputs": [],
   "source": [
    "df_irradiance_m = df_m_registry.copy()\n",
    "# get values of global radiation for all municipalities\n",
    "df_irradiance_m[col_radiation] = df_irradiance_m.apply(determine_radiation, axis=1)\n",
    "assert (\n",
    "    df_irradiance_m[df_irradiance_m[col_radiation].isna()].shape[0] == 0\n",
    "), \"Attention: Could not find global irradiance values for all municipalities.\""
   ]
  },
  {
   "cell_type": "code",
   "execution_count": 9,
   "metadata": {
    "ExecuteTime": {
     "end_time": "2023-06-30T15:13:26.721714173Z",
     "start_time": "2023-06-30T15:13:26.714684552Z"
    },
    "collapsed": false
   },
   "outputs": [],
   "source": [
    "# Take mean of global radiation over all municipalities of an ma to derive radiation values for municipality associations\n",
    "df_irradiance_ma = pd.DataFrame(\n",
    "    df_irradiance_m[[col_id_ma, col_radiation]]\n",
    "    .groupby(by=col_id_ma, as_index=False)\n",
    "    .mean()\n",
    ")"
   ]
  },
  {
   "cell_type": "code",
   "execution_count": 11,
   "metadata": {
    "ExecuteTime": {
     "end_time": "2023-06-30T15:13:26.769903166Z",
     "start_time": "2023-06-30T15:13:26.768806462Z"
    },
    "collapsed": false
   },
   "outputs": [],
   "source": [
    "df_irradiance_ma.to_csv(\n",
    "    \"data/intermediate_data/ma_global_radiation.csv\", index=False, sep=\";\"\n",
    ")"
   ]
  }
 ],
 "metadata": {
  "kernelspec": {
   "display_name": "Python 3",
   "language": "python",
   "name": "python3"
  },
  "language_info": {
   "codemirror_mode": {
    "name": "ipython",
    "version": 3
   },
   "file_extension": ".py",
   "mimetype": "text/x-python",
   "name": "python",
   "nbconvert_exporter": "python",
   "pygments_lexer": "ipython3",
   "version": "3.9.19"
  }
 },
 "nbformat": 4,
 "nbformat_minor": 0
}
