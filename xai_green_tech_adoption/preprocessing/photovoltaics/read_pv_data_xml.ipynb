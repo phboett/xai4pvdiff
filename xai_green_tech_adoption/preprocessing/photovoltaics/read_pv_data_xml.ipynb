{
 "cells": [
  {
   "cell_type": "code",
   "execution_count": 1,
   "metadata": {
    "ExecuteTime": {
     "end_time": "2023-06-30T15:37:47.171488765Z",
     "start_time": "2023-06-30T15:37:47.104718257Z"
    },
    "collapsed": true
   },
   "outputs": [],
   "source": [
    "import os\n",
    "import numpy as np\n",
    "import pandas as pd\n",
    "import glob\n",
    "import xml.etree.ElementTree as et\n",
    "\n",
    "os.chdir(\"../../..\")\n",
    "from xai_green_tech_adoption.utils.utils import *\n",
    "\n",
    "pd.options.mode.chained_assignment = None"
   ]
  },
  {
   "cell_type": "code",
   "execution_count": 2,
   "metadata": {
    "ExecuteTime": {
     "end_time": "2023-06-30T15:37:47.171727049Z",
     "start_time": "2023-06-30T15:37:47.148700925Z"
    },
    "collapsed": false
   },
   "outputs": [],
   "source": [
    "# Get list with names of all xml-files\n",
    "xml_list = glob.glob(\"data/raw_data/Target_Feature/xml_data/EinheitenSolar_*.xml\")"
   ]
  },
  {
   "cell_type": "code",
   "execution_count": 3,
   "metadata": {
    "ExecuteTime": {
     "end_time": "2023-06-30T15:37:47.171837469Z",
     "start_time": "2023-06-30T15:37:47.148928139Z"
    },
    "collapsed": false
   },
   "outputs": [],
   "source": [
    "def get_df_from_xml(xml_path, list_relevant_features, elem_name):\n",
    "    \"\"\"\n",
    "    Transforms xml-file containing PV-data by Marktstammdatenregister into dataframe listing PV installations.\n",
    "    @param xml_path: path of the relevant xml-file.\n",
    "    @param list_relevant_features: Features of the PV installations to be considered in the dataframe as columns.\n",
    "    @param elem_name: name of elements (children of root element).\n",
    "    @return: Dataframe with rows corresponding to PV installations and columns corresponding to the features of the installations given by list_relevant_features.\n",
    "    \"\"\"\n",
    "    tree = et.parse(xml_path)\n",
    "    root = tree.getroot()\n",
    "    entities_list = []\n",
    "    for solar_entity in root.findall(elem_name):\n",
    "        # iterate over all PV installations\n",
    "        # dict features saves all relevant features of a PV installation\n",
    "        features = {}\n",
    "        for feature in list_relevant_features:\n",
    "            # add all relevant features of PV installations to dataframe corresponding to installation\n",
    "            val_feature = solar_entity.find(feature)\n",
    "            if val_feature is not None:\n",
    "                features.update({feature: val_feature.text})\n",
    "            else:\n",
    "                features.update({feature: np.nan})\n",
    "        entities_list.append(features)\n",
    "    return pd.DataFrame(entities_list)"
   ]
  },
  {
   "cell_type": "code",
   "execution_count": 4,
   "metadata": {
    "ExecuteTime": {
     "end_time": "2023-06-30T15:37:47.171923506Z",
     "start_time": "2023-06-30T15:37:47.149126127Z"
    },
    "collapsed": false
   },
   "outputs": [],
   "source": [
    "def all_xml_to_df(xml_list, list_relevant_features, elem_name):\n",
    "    \"\"\"\n",
    "    Creates a dataframe containing data on PV installations contained in multiple xml-files.\n",
    "    @param xml_list: List of xml-files that give data for dataframe.\n",
    "    @param list_relevant_features: list of features of PV installations to be included in the dataframe.\n",
    "    @param elem_name: name of elements (children of root element).\n",
    "    @return: Dataframe with PV data given by xml-files of xml_list.\n",
    "    \"\"\"\n",
    "    df_complete = pd.DataFrame(columns=list_relevant_features)\n",
    "    for xml_file in xml_list:\n",
    "        df_complete = pd.concat(\n",
    "            [df_complete, get_df_from_xml(xml_file, list_relevant_features, elem_name)],\n",
    "            axis=0,\n",
    "        )\n",
    "    return df_complete"
   ]
  },
  {
   "cell_type": "code",
   "execution_count": 5,
   "metadata": {
    "ExecuteTime": {
     "end_time": "2023-06-30T15:41:25.028340221Z",
     "start_time": "2023-06-30T15:37:47.150459949Z"
    },
    "collapsed": false
   },
   "outputs": [
    {
     "data": {
      "text/html": [
       "<div>\n",
       "<style scoped>\n",
       "    .dataframe tbody tr th:only-of-type {\n",
       "        vertical-align: middle;\n",
       "    }\n",
       "\n",
       "    .dataframe tbody tr th {\n",
       "        vertical-align: top;\n",
       "    }\n",
       "\n",
       "    .dataframe thead th {\n",
       "        text-align: right;\n",
       "    }\n",
       "</style>\n",
       "<table border=\"1\" class=\"dataframe\">\n",
       "  <thead>\n",
       "    <tr style=\"text-align: right;\">\n",
       "      <th></th>\n",
       "      <th>EinheitMastrNummer</th>\n",
       "      <th>Gemeinde</th>\n",
       "      <th>Gemeindeschluessel</th>\n",
       "      <th>Registrierungsdatum</th>\n",
       "      <th>Inbetriebnahmedatum</th>\n",
       "      <th>EinheitSystemstatus</th>\n",
       "      <th>EinheitBetriebsstatus</th>\n",
       "      <th>Energietraeger</th>\n",
       "      <th>Nettonennleistung</th>\n",
       "      <th>AnzahlModule</th>\n",
       "    </tr>\n",
       "  </thead>\n",
       "  <tbody>\n",
       "    <tr>\n",
       "      <th>0</th>\n",
       "      <td>SEE906512237036</td>\n",
       "      <td>Frielendorf</td>\n",
       "      <td>06634004</td>\n",
       "      <td>2019-01-31</td>\n",
       "      <td>1997-07-01</td>\n",
       "      <td>472</td>\n",
       "      <td>35</td>\n",
       "      <td>2495</td>\n",
       "      <td>1.500</td>\n",
       "      <td>8</td>\n",
       "    </tr>\n",
       "    <tr>\n",
       "      <th>1</th>\n",
       "      <td>SEE913696975296</td>\n",
       "      <td>Blaubeuren</td>\n",
       "      <td>08425020</td>\n",
       "      <td>2019-01-31</td>\n",
       "      <td>2007-03-08</td>\n",
       "      <td>472</td>\n",
       "      <td>35</td>\n",
       "      <td>2495</td>\n",
       "      <td>16.114</td>\n",
       "      <td>92</td>\n",
       "    </tr>\n",
       "    <tr>\n",
       "      <th>2</th>\n",
       "      <td>SEE954246547006</td>\n",
       "      <td>Wesel</td>\n",
       "      <td>05170048</td>\n",
       "      <td>2019-01-31</td>\n",
       "      <td>2010-09-30</td>\n",
       "      <td>472</td>\n",
       "      <td>35</td>\n",
       "      <td>2495</td>\n",
       "      <td>10.550</td>\n",
       "      <td>57</td>\n",
       "    </tr>\n",
       "    <tr>\n",
       "      <th>3</th>\n",
       "      <td>SEE924152369610</td>\n",
       "      <td>Peine</td>\n",
       "      <td>03157006</td>\n",
       "      <td>2019-01-31</td>\n",
       "      <td>2012-10-01</td>\n",
       "      <td>472</td>\n",
       "      <td>35</td>\n",
       "      <td>2495</td>\n",
       "      <td>5.197</td>\n",
       "      <td>25</td>\n",
       "    </tr>\n",
       "    <tr>\n",
       "      <th>4</th>\n",
       "      <td>SEE997129649626</td>\n",
       "      <td>Hütschenhausen</td>\n",
       "      <td>07335016</td>\n",
       "      <td>2019-01-31</td>\n",
       "      <td>2018-02-06</td>\n",
       "      <td>472</td>\n",
       "      <td>35</td>\n",
       "      <td>2495</td>\n",
       "      <td>8.000</td>\n",
       "      <td>35</td>\n",
       "    </tr>\n",
       "    <tr>\n",
       "      <th>...</th>\n",
       "      <td>...</td>\n",
       "      <td>...</td>\n",
       "      <td>...</td>\n",
       "      <td>...</td>\n",
       "      <td>...</td>\n",
       "      <td>...</td>\n",
       "      <td>...</td>\n",
       "      <td>...</td>\n",
       "      <td>...</td>\n",
       "      <td>...</td>\n",
       "    </tr>\n",
       "    <tr>\n",
       "      <th>99995</th>\n",
       "      <td>SEE969238275898</td>\n",
       "      <td>Neuhardenberg</td>\n",
       "      <td>12064340</td>\n",
       "      <td>2020-05-08</td>\n",
       "      <td>2005-07-19</td>\n",
       "      <td>472</td>\n",
       "      <td>35</td>\n",
       "      <td>2495</td>\n",
       "      <td>3.200</td>\n",
       "      <td>20</td>\n",
       "    </tr>\n",
       "    <tr>\n",
       "      <th>99996</th>\n",
       "      <td>SEE979445195230</td>\n",
       "      <td>Hamburg</td>\n",
       "      <td>02000000</td>\n",
       "      <td>2020-05-08</td>\n",
       "      <td>2010-04-22</td>\n",
       "      <td>472</td>\n",
       "      <td>35</td>\n",
       "      <td>2495</td>\n",
       "      <td>4.000</td>\n",
       "      <td>22</td>\n",
       "    </tr>\n",
       "    <tr>\n",
       "      <th>99997</th>\n",
       "      <td>SEE991266469536</td>\n",
       "      <td>Aiterhofen</td>\n",
       "      <td>09278113</td>\n",
       "      <td>2020-05-08</td>\n",
       "      <td>2007-11-26</td>\n",
       "      <td>472</td>\n",
       "      <td>35</td>\n",
       "      <td>2495</td>\n",
       "      <td>13.800</td>\n",
       "      <td>145</td>\n",
       "    </tr>\n",
       "    <tr>\n",
       "      <th>99998</th>\n",
       "      <td>SEE963380719293</td>\n",
       "      <td>Lügde</td>\n",
       "      <td>05766052</td>\n",
       "      <td>2020-05-08</td>\n",
       "      <td>2010-09-25</td>\n",
       "      <td>472</td>\n",
       "      <td>35</td>\n",
       "      <td>2495</td>\n",
       "      <td>8.000</td>\n",
       "      <td>45</td>\n",
       "    </tr>\n",
       "    <tr>\n",
       "      <th>99999</th>\n",
       "      <td>SEE968317346924</td>\n",
       "      <td>Jübek</td>\n",
       "      <td>01059044</td>\n",
       "      <td>2020-05-08</td>\n",
       "      <td>2020-04-30</td>\n",
       "      <td>472</td>\n",
       "      <td>35</td>\n",
       "      <td>2495</td>\n",
       "      <td>51.100</td>\n",
       "      <td>226</td>\n",
       "    </tr>\n",
       "  </tbody>\n",
       "</table>\n",
       "<p>2611086 rows × 10 columns</p>\n",
       "</div>"
      ],
      "text/plain": [
       "      EinheitMastrNummer        Gemeinde Gemeindeschluessel  \\\n",
       "0        SEE906512237036     Frielendorf           06634004   \n",
       "1        SEE913696975296      Blaubeuren           08425020   \n",
       "2        SEE954246547006           Wesel           05170048   \n",
       "3        SEE924152369610           Peine           03157006   \n",
       "4        SEE997129649626  Hütschenhausen           07335016   \n",
       "...                  ...             ...                ...   \n",
       "99995    SEE969238275898   Neuhardenberg           12064340   \n",
       "99996    SEE979445195230         Hamburg           02000000   \n",
       "99997    SEE991266469536      Aiterhofen           09278113   \n",
       "99998    SEE963380719293           Lügde           05766052   \n",
       "99999    SEE968317346924           Jübek           01059044   \n",
       "\n",
       "      Registrierungsdatum Inbetriebnahmedatum EinheitSystemstatus  \\\n",
       "0              2019-01-31          1997-07-01                 472   \n",
       "1              2019-01-31          2007-03-08                 472   \n",
       "2              2019-01-31          2010-09-30                 472   \n",
       "3              2019-01-31          2012-10-01                 472   \n",
       "4              2019-01-31          2018-02-06                 472   \n",
       "...                   ...                 ...                 ...   \n",
       "99995          2020-05-08          2005-07-19                 472   \n",
       "99996          2020-05-08          2010-04-22                 472   \n",
       "99997          2020-05-08          2007-11-26                 472   \n",
       "99998          2020-05-08          2010-09-25                 472   \n",
       "99999          2020-05-08          2020-04-30                 472   \n",
       "\n",
       "      EinheitBetriebsstatus Energietraeger Nettonennleistung AnzahlModule  \n",
       "0                        35           2495             1.500            8  \n",
       "1                        35           2495            16.114           92  \n",
       "2                        35           2495            10.550           57  \n",
       "3                        35           2495             5.197           25  \n",
       "4                        35           2495             8.000           35  \n",
       "...                     ...            ...               ...          ...  \n",
       "99995                    35           2495             3.200           20  \n",
       "99996                    35           2495             4.000           22  \n",
       "99997                    35           2495            13.800          145  \n",
       "99998                    35           2495             8.000           45  \n",
       "99999                    35           2495            51.100          226  \n",
       "\n",
       "[2611086 rows x 10 columns]"
      ]
     },
     "metadata": {},
     "output_type": "display_data"
    }
   ],
   "source": [
    "df_complete_raw = all_xml_to_df(xml_list, list_relevant_features, elem_name_xml_pv)\n",
    "display(df_complete_raw)"
   ]
  },
  {
   "cell_type": "code",
   "execution_count": 6,
   "metadata": {
    "ExecuteTime": {
     "end_time": "2023-06-30T15:41:25.061723115Z",
     "start_time": "2023-06-30T15:41:24.992474036Z"
    },
    "collapsed": false
   },
   "outputs": [],
   "source": [
    "# change column names\n",
    "df_complete_raw.rename(\n",
    "    {\n",
    "        \"Inbetriebnahmedatum\": col_com_date_pv,\n",
    "        \"Registrierungsdatum\": col_date_registration_pv,\n",
    "        \"EinheitMastrNummer\": col_installation_id_pv,\n",
    "        \"Gemeinde\": col_name_m,\n",
    "        \"Gemeindeschluessel\": col_id_m,\n",
    "        \"Nettonennleistung\": col_power_pv,\n",
    "    },\n",
    "    axis=1,\n",
    "    inplace=True,\n",
    ")"
   ]
  },
  {
   "cell_type": "code",
   "execution_count": 7,
   "metadata": {
    "ExecuteTime": {
     "end_time": "2023-06-30T15:41:34.475501271Z",
     "start_time": "2023-06-30T15:41:24.992634404Z"
    },
    "collapsed": false
   },
   "outputs": [
    {
     "name": "stdout",
     "output_type": "stream",
     "text": [
      "There are 13 instances without values for the AGS. I drop these instances.\n"
     ]
    }
   ],
   "source": [
    "# fix data types of columns of raw dataframe\n",
    "df_complete_raw[col_com_date_pv] = pd.to_datetime(\n",
    "    df_complete_raw[col_com_date_pv], yearfirst=True\n",
    ")\n",
    "df_complete_raw[col_date_registration_pv] = pd.to_datetime(\n",
    "    df_complete_raw[col_date_registration_pv], yearfirst=True\n",
    ")\n",
    "df_complete_raw[col_power_pv] = pd.to_numeric(df_complete_raw[col_power_pv])\n",
    "print(\n",
    "    f\"There are {df_complete_raw[col_id_m].isna().sum()} instances without values for the AGS. I drop these instances.\"\n",
    ")\n",
    "df_complete_raw = df_complete_raw.loc[df_complete_raw[col_id_m].notna()]\n",
    "df_complete_raw[col_id_m] = df_complete_raw[col_id_m].astype(int)"
   ]
  },
  {
   "cell_type": "code",
   "execution_count": null,
   "metadata": {
    "ExecuteTime": {
     "end_time": "2023-06-30T15:41:35.596664476Z",
     "start_time": "2023-06-30T15:41:34.481936977Z"
    },
    "collapsed": false
   },
   "outputs": [],
   "source": [
    "# keep registrations before Nov 2022\n",
    "df_reg_filtered = df_complete_raw[\n",
    "    (df_complete_raw[col_date_registration_pv].dt.year < t_reg_pv_latest_year)\n",
    "    | (\n",
    "        (df_complete_raw[col_date_registration_pv].dt.year == t_reg_pv_latest_year)\n",
    "        & (df_complete_raw[col_date_registration_pv].dt.month <= t_reg_pv_latest_month)\n",
    "    )\n",
    "]\n"
   ]
  },
  {
   "cell_type": "code",
   "execution_count": 9,
   "metadata": {
    "ExecuteTime": {
     "end_time": "2023-06-30T15:41:35.608035226Z",
     "start_time": "2023-06-30T15:41:35.603590131Z"
    },
    "collapsed": false
   },
   "outputs": [],
   "source": [
    "def aggregate_pv_m(\n",
    "    df_raw,\n",
    "    col_id_m,\n",
    "    col_name_m,\n",
    "    col_installation_id,\n",
    "    col_count_pv,\n",
    "    col_power,\n",
    "    col_power_accum,\n",
    "    col_t,\n",
    "    pow_min,\n",
    "    pow_max,\n",
    "    t,\n",
    "):\n",
    "    \"\"\"\n",
    "    The function generates a dataframe giving the number and accumulated capacity of all pv systems for all municipalities. It considers all pv systems installed in year \"t\" (i.e., commissioning date lies in year t) with a net nominal capacity larger or equal to pow_min and smaller or equal pow_max.\n",
    "    @param df_raw: Dataframe with listing pv system registered at Marktstammdatenregister\n",
    "    @param col_id_m: ags of municipalities\n",
    "    @param col_name_m: names of municipalities\n",
    "    @param col_installation_id: unique id/code of py system\n",
    "    @param col_count_pv: number of pv installations\n",
    "    @param col_power: net nomial capacity\n",
    "    @param col_t: (column of) commissioning date\n",
    "    @param pow_min: minimum net nominal capacity of pv systems considered\n",
    "    @param pow_max: maximum net nominal capacity of pv systems considered\n",
    "    @param t: year of interest (the output dataframe contains all installations with a commissioning date within this year)\n",
    "    @return: Dataframe with municipalities as rows, accumulated net nominal capacity and number of pv installation ( and names and ags of municipalities) as columns. Municipalities are identifies ba ags.\n",
    "    \"\"\"\n",
    "    df_t = df_raw[df_raw[col_t].dt.year == t]\n",
    "    df_pv = df_t[(df_t[col_power] >= pow_min) & (df_t[col_power] <= pow_max)]\n",
    "    df_aggr = pd.DataFrame(\n",
    "        df_pv[[col_id_m, col_name_m, col_installation_id, col_power]]\n",
    "        .groupby(by=col_id_m, as_index=False)\n",
    "        .agg({col_name_m: \"unique\", col_installation_id: \"count\", col_power: \"sum\"})\n",
    "    )\n",
    "    df_aggr[col_name_m] = df_aggr[col_name_m].apply(lambda elem: elem[0])\n",
    "    df_aggr.rename(\n",
    "        {col_installation_id: col_count_pv, col_power: col_power_accum},\n",
    "        axis=1,\n",
    "        inplace=True,\n",
    "    )\n",
    "    return df_aggr"
   ]
  },
  {
   "cell_type": "code",
   "execution_count": 10,
   "metadata": {
    "ExecuteTime": {
     "end_time": "2023-06-30T15:41:35.623331928Z",
     "start_time": "2023-06-30T15:41:35.610096628Z"
    },
    "collapsed": false
   },
   "outputs": [],
   "source": [
    "min_power = [0]\n",
    "max_power = [10]"
   ]
  },
  {
   "cell_type": "code",
   "execution_count": null,
   "metadata": {
    "ExecuteTime": {
     "end_time": "2023-06-30T15:42:10.892979856Z",
     "start_time": "2023-06-30T15:41:35.632175324Z"
    },
    "collapsed": false
   },
   "outputs": [],
   "source": [
    "for year in list(df_reg_filtered[col_com_date_pv].dt.year.dropna().unique()):\n",
    "    for min_p, max_p in zip(min_power, max_power):\n",
    "        df_m_acc = aggregate_pv_m(\n",
    "            df_reg_filtered,\n",
    "            col_id_m=col_id_m,\n",
    "            col_name_m=col_name_m,\n",
    "            col_installation_id=col_installation_id_pv,\n",
    "            col_count_pv=col_count_pv,\n",
    "            col_power=col_power_pv,\n",
    "            col_power_accum=col_power_accum_pv,\n",
    "            col_t=col_com_date_pv,\n",
    "            t=year,\n",
    "            pow_min=min_p,\n",
    "            pow_max=max_p,\n",
    "        )\n",
    "        df_m_acc.to_csv(\n",
    "            f\"data/intermediate_data/PV_in_municipalities/pv_m_{int(year)}_max_{max_p}.csv\",\n",
    "            index=False,\n",
    "            sep=\";\",\n",
    "        )"
   ]
  }
 ],
 "metadata": {
  "kernelspec": {
   "display_name": "Python 3",
   "language": "python",
   "name": "python3"
  },
  "language_info": {
   "codemirror_mode": {
    "name": "ipython",
    "version": 3
   },
   "file_extension": ".py",
   "mimetype": "text/x-python",
   "name": "python",
   "nbconvert_exporter": "python",
   "pygments_lexer": "ipython3",
   "version": "3.9.19"
  }
 },
 "nbformat": 4,
 "nbformat_minor": 0
}
