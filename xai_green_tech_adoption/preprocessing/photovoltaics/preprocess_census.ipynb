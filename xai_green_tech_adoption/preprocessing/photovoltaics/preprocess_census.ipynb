{
 "cells": [
  {
   "cell_type": "code",
   "execution_count": 1,
   "metadata": {
    "ExecuteTime": {
     "end_time": "2023-06-30T14:55:19.292728157Z",
     "start_time": "2023-06-30T14:55:19.008435769Z"
    },
    "collapsed": true
   },
   "outputs": [],
   "source": [
    "import os\n",
    "import numpy as np\n",
    "import pandas as pd\n",
    "\n",
    "os.chdir(\"../../..\")\n",
    "from xai_green_tech_adoption.utils.utils import *\n",
    "\n",
    "pd.options.mode.chained_assignment = None"
   ]
  },
  {
   "cell_type": "markdown",
   "metadata": {
    "collapsed": false
   },
   "source": [
    "### In this Jupyter notebook we preprocess the owner occupation ratio and variables on the size of households originating from the Zensus 2011."
   ]
  },
  {
   "cell_type": "markdown",
   "metadata": {
    "collapsed": false
   },
   "source": [
    "### 1. Ownership ratio "
   ]
  },
  {
   "cell_type": "code",
   "execution_count": 2,
   "metadata": {
    "ExecuteTime": {
     "end_time": "2023-06-30T14:55:19.305920643Z",
     "start_time": "2023-06-30T14:55:19.300287922Z"
    },
    "collapsed": false
   },
   "outputs": [],
   "source": [
    "# ownership ratio\n",
    "col_count_owner_occ = \"count owner occupied flats\"\n",
    "col_count_all_flats = \"total count flats\""
   ]
  },
  {
   "cell_type": "code",
   "execution_count": 3,
   "metadata": {
    "ExecuteTime": {
     "end_time": "2023-06-30T14:55:19.413404104Z",
     "start_time": "2023-06-30T14:55:19.310983948Z"
    },
    "collapsed": false
   },
   "outputs": [
    {
     "data": {
      "text/plain": [
       "state                          object\n",
       "nuts2 region                   object\n",
       "county                         object\n",
       "municipality association       object\n",
       "municipality                   object\n",
       "name                           object\n",
       "total count flats             float64\n",
       "count owner occupied flats    float64\n",
       "dtype: object"
      ]
     },
     "execution_count": 3,
     "metadata": {},
     "output_type": "execute_result"
    }
   ],
   "source": [
    "df_ownership_raw = pd.read_csv(\n",
    "    \"data/raw_data/descriptive_features/csv_GebaudeWohnungen/Zensus11_Datensatz_Gebaeude.csv\",\n",
    "    sep=\";\",\n",
    "    encoding=\"iso8859_15\",\n",
    "    na_values=\"-\",\n",
    "    dtype={\n",
    "        \"RS_Land\": \"str\",\n",
    "        \"RS_RB_NUTS2\": \"str\",\n",
    "        \"RS_Kreis\": \"str\",\n",
    "        \"RS_VB\": \"str\",\n",
    "        \"RS_Gem\": \"str\",\n",
    "    },\n",
    "    usecols=[\n",
    "        \"RS_Land\",\n",
    "        \"RS_RB_NUTS2\",\n",
    "        \"RS_Kreis\",\n",
    "        \"RS_VB\",\n",
    "        \"RS_Gem\",\n",
    "        \"Name\",\n",
    "        \"WHG_6.1\",\n",
    "        \"WHG_6.2\",\n",
    "    ],\n",
    ")\n",
    "df_ownership_raw.rename(\n",
    "    {\n",
    "        \"RS_Land\": col_state_code,\n",
    "        \"RS_RB_NUTS2\": col_nuts2_code,\n",
    "        \"RS_Kreis\": col_county_code,\n",
    "        \"RS_VB\": col_ma_code,\n",
    "        \"RS_Gem\": col_m_code,\n",
    "        \"Name\": col_name_zensus,\n",
    "        \"WHG_6.1\": col_count_all_flats,\n",
    "        \"WHG_6.2\": col_count_owner_occ,\n",
    "    },\n",
    "    axis=1,\n",
    "    inplace=True,\n",
    ")\n",
    "df_ownership_raw.dtypes"
   ]
  },
  {
   "cell_type": "code",
   "execution_count": 4,
   "metadata": {
    "ExecuteTime": {
     "end_time": "2023-06-30T14:55:19.468875652Z",
     "start_time": "2023-06-30T14:55:19.424894135Z"
    },
    "collapsed": false
   },
   "outputs": [],
   "source": [
    "def preprocess_zensus_feature(\n",
    "    df_zensus,\n",
    "    col_m_ags,\n",
    "    col_state,\n",
    "    col_nuts2,\n",
    "    col_county,\n",
    "    col_m,\n",
    "    col_feature_denom,\n",
    "    col_feature_num,\n",
    "    col_ars,\n",
    "    name_feature,\n",
    "):\n",
    "    \"\"\"\n",
    "    Given a raw dataframe (df_zensus) with Zensus data, the function computes the feature 'name_feature' as a fraction of col_feature_num/col_feature_denom (multiplied by 100 as we are interested in the percentage) for all municipality associations. First, I derive the ags for all municipalities by combining the state, nuts2, county and municipality code. Second, the municipalities are mapped to the corresponding municipalitiy associations using 'mapping_municipalities_2011_2019.csv'. Third, I compute the percentage for all municipality associations.\n",
    "    Assumption: Imprecise values due to privacy issues are indicated as negative.\n",
    "    @param df_zensus: raw Zensus data\n",
    "    @param col_m_ags: ags of municipalities\n",
    "    @param col_state: (string) code of state\n",
    "    @param col_nuts2: (string) code of (nuts2-) region\n",
    "    @param col_county: (string) code of county\n",
    "    @param col_m: (string) code of municipality\n",
    "    @param col_feature_denom: denominator of feature (count)\n",
    "    @param col_feature_num: numerator of feature (count)\n",
    "    @param col_ars: rs of municipality associations\n",
    "    @param name_feature: name of generated feature\n",
    "    @return: dataframe encompassing rs of ma's and newly generated feature name_feature\n",
    "    \"\"\"\n",
    "\n",
    "    df_m = df_zensus[df_zensus[col_m].notna()]\n",
    "    df_m[col_m_ags] = df_m[col_state] + df_m[col_nuts2] + df_m[col_county] + df_m[col_m]\n",
    "    df_m[col_m_ags] = df_m[col_m_ags].astype(int)\n",
    "\n",
    "    # Imprecise values are indicated as negative. -> Fix them.\n",
    "    df_m.loc[df_m[col_feature_num] < 0, col_feature_num] = -1 * df_m[col_feature_num]\n",
    "    df_m.loc[df_m[col_feature_denom] < 0, col_feature_denom] = (\n",
    "        -1 * df_m[col_feature_denom]\n",
    "    )\n",
    "\n",
    "    # Check for NaNs\n",
    "    print(\n",
    "        \"There are missing values for the numerator or denominator for the following municipalities. Dropping these municipalities.\"\n",
    "    )\n",
    "    display(df_m[df_m[[col_feature_num, col_feature_denom]].isna().any(axis=1)])\n",
    "    df_m = df_m[df_m[[col_feature_num, col_feature_denom]].notna().any(axis=1)]\n",
    "\n",
    "    # map municipalities to corresponding municipality associations\n",
    "    df_map_m_to_ma = pd.read_csv(\n",
    "        \"data/intermediate_data/mapping_municipalities_2011_2019.csv\", sep=\";\"\n",
    "    )\n",
    "    df_m_map = df_m.merge(df_map_m_to_ma, on=col_m_ags, how=\"left\")\n",
    "    # check if m to ma mapping is available for all m\n",
    "    if df_m_map[col_ars].isna().sum() == 0:\n",
    "        print(\"All municipalities are associated with a municipality association.\")\n",
    "    else:\n",
    "        print(\n",
    "            \"The m-to-ma-mapping does not provides a municipality association for the following municipalities:\"\n",
    "        )\n",
    "        display(df_m_map[df_m_map[col_ars].isna()])\n",
    "\n",
    "    # aggregate data for all municipality associations\n",
    "    df_agg = pd.DataFrame(\n",
    "        df_m_map.groupby(by=col_ars, as_index=False).agg(\n",
    "            {col_feature_num: \"sum\", col_feature_denom: \"sum\", col_m_ags: \"count\"}\n",
    "        )\n",
    "    )\n",
    "\n",
    "    # percentage of flats occupied by owners\n",
    "    df_agg[name_feature] = 100 * df_agg[col_feature_num] / df_agg[col_feature_denom]\n",
    "    df_agg[col_ars] = df_agg[col_ars].astype(int)\n",
    "    return df_agg[[col_ars, name_feature]]"
   ]
  },
  {
   "cell_type": "code",
   "execution_count": 5,
   "metadata": {
    "ExecuteTime": {
     "end_time": "2023-06-30T14:55:19.553169461Z",
     "start_time": "2023-06-30T14:55:19.468629640Z"
    },
    "collapsed": false
   },
   "outputs": [
    {
     "name": "stdout",
     "output_type": "stream",
     "text": [
      "There are missing values for the numerator or denominator for the following municipalities. Dropping these municipalities.\n"
     ]
    },
    {
     "data": {
      "text/html": [
       "<div>\n",
       "<style scoped>\n",
       "    .dataframe tbody tr th:only-of-type {\n",
       "        vertical-align: middle;\n",
       "    }\n",
       "\n",
       "    .dataframe tbody tr th {\n",
       "        vertical-align: top;\n",
       "    }\n",
       "\n",
       "    .dataframe thead th {\n",
       "        text-align: right;\n",
       "    }\n",
       "</style>\n",
       "<table border=\"1\" class=\"dataframe\">\n",
       "  <thead>\n",
       "    <tr style=\"text-align: right;\">\n",
       "      <th></th>\n",
       "      <th>state</th>\n",
       "      <th>nuts2 region</th>\n",
       "      <th>county</th>\n",
       "      <th>municipality association</th>\n",
       "      <th>municipality</th>\n",
       "      <th>name</th>\n",
       "      <th>total count flats</th>\n",
       "      <th>count owner occupied flats</th>\n",
       "      <th>Official municipality code (AGS)</th>\n",
       "    </tr>\n",
       "  </thead>\n",
       "  <tbody>\n",
       "    <tr>\n",
       "      <th>4581</th>\n",
       "      <td>07</td>\n",
       "      <td>2</td>\n",
       "      <td>31</td>\n",
       "      <td>5003</td>\n",
       "      <td>021</td>\n",
       "      <td>Dierfeld</td>\n",
       "      <td>NaN</td>\n",
       "      <td>NaN</td>\n",
       "      <td>7231021</td>\n",
       "    </tr>\n",
       "  </tbody>\n",
       "</table>\n",
       "</div>"
      ],
      "text/plain": [
       "     state nuts2 region county municipality association municipality  \\\n",
       "4581    07            2     31                     5003          021   \n",
       "\n",
       "          name  total count flats  count owner occupied flats  \\\n",
       "4581  Dierfeld                NaN                         NaN   \n",
       "\n",
       "      Official municipality code (AGS)  \n",
       "4581                           7231021  "
      ]
     },
     "metadata": {},
     "output_type": "display_data"
    },
    {
     "name": "stdout",
     "output_type": "stream",
     "text": [
      "All municipalities are associated with a municipality association.\n",
      "The municipality of Dierfeld belongs to ma Wittlich-Land (jointly with five other municipalities). We drop this municipality.\n"
     ]
    }
   ],
   "source": [
    "df_owner_agg = preprocess_zensus_feature(\n",
    "    df_ownership_raw,\n",
    "    col_m_ags=col_id_m,\n",
    "    col_state=col_state_code,\n",
    "    col_nuts2=col_nuts2_code,\n",
    "    col_county=col_county_code,\n",
    "    col_m=col_m_code,\n",
    "    col_feature_denom=col_count_all_flats,\n",
    "    col_feature_num=col_count_owner_occ,\n",
    "    col_ars=col_id_ma,\n",
    "    name_feature=owner_occ_ratio,\n",
    ")\n",
    "print('The municipality of Dierfeld belongs to ma Wittlich-Land (jointly with five other municipalities). We drop this municipality.')"
   ]
  },
  {
   "cell_type": "code",
   "execution_count": 6,
   "metadata": {
    "ExecuteTime": {
     "end_time": "2023-06-30T14:55:19.553464747Z",
     "start_time": "2023-06-30T14:55:19.512643995Z"
    },
    "collapsed": false
   },
   "outputs": [],
   "source": [
    "def check_completeness_ma(df_to_check, col_id_ma, col_name_ma):\n",
    "    \"\"\"\n",
    "    Check whether df_to_check contains all municipality associations included in the inkar dataset. Function prints result of check.\n",
    "    @param df_to_check: dataframe to be checked\n",
    "    @param col_id_ma: rs of municipality associations\n",
    "    @param col_name_ma: name of municipality associations\n",
    "    @return: None\n",
    "    \"\"\"\n",
    "    df_inkar_ma_names_ids = pd.read_csv(\n",
    "        \"data/intermediate_data/preprocessed_inkar_data.csv\",\n",
    "        sep=\";\",\n",
    "        usecols=[col_id_ma, col_name_ma],\n",
    "    )\n",
    "    list_ma_inkar = list(df_inkar_ma_names_ids[col_id_ma])\n",
    "    list_ma_not_included = [\n",
    "        ma for ma in list_ma_inkar if ma not in list(df_to_check[col_id_ma])\n",
    "    ]\n",
    "    print(\n",
    "        f\"There are {len(list_ma_not_included)} municipality associations that are not included in the ownership occupation data.\"\n",
    "    )\n",
    "    if len(list_ma_not_included) == 0:\n",
    "        print(\n",
    "            \"All municipality associations of the INKAR dataset are also included in this dataframe.\"\n",
    "        )\n",
    "    else:\n",
    "        print(\n",
    "            \"Attention: There are municipality associations of the INKAR dataset that are not included in this dataset.\"\n",
    "        )\n",
    "        display(\n",
    "            df_inkar_ma_names_ids[\n",
    "                df_inkar_ma_names_ids[col_id_ma].isin(list_ma_not_included)\n",
    "            ]\n",
    "        )"
   ]
  },
  {
   "cell_type": "code",
   "execution_count": 7,
   "metadata": {
    "ExecuteTime": {
     "end_time": "2023-06-30T14:55:21.599781716Z",
     "start_time": "2023-06-30T14:55:19.512803092Z"
    },
    "collapsed": false
   },
   "outputs": [
    {
     "name": "stdout",
     "output_type": "stream",
     "text": [
      "There are 0 municipality associations that are not included in the ownership occupation data.\n",
      "All municipality associations of the INKAR dataset are also included in this dataframe.\n"
     ]
    }
   ],
   "source": [
    "check_completeness_ma(df_owner_agg, col_id_ma, col_name_ma)\n",
    "\n",
    "df_owner_agg.to_csv(\n",
    "    \"data/intermediate_data/preprocessed_ownership_ratio.csv\", sep=\";\", index=False\n",
    ")"
   ]
  },
  {
   "cell_type": "markdown",
   "metadata": {
    "collapsed": false
   },
   "source": [
    "## 2. Household size"
   ]
  },
  {
   "cell_type": "code",
   "execution_count": 8,
   "metadata": {
    "ExecuteTime": {
     "end_time": "2023-06-30T14:55:21.603799242Z",
     "start_time": "2023-06-30T14:55:21.602161457Z"
    },
    "collapsed": false
   },
   "outputs": [],
   "source": [
    "col_num_hh_size = [\n",
    "    col_count_one_p,\n",
    "    col_count_two_p,\n",
    "    col_count_three_p,\n",
    "    col_count_four_p,\n",
    "    col_count_five_p,\n",
    "    col_count_six_more_p,\n",
    "]"
   ]
  },
  {
   "cell_type": "code",
   "execution_count": 9,
   "metadata": {
    "ExecuteTime": {
     "end_time": "2023-06-30T14:56:30.212050961Z",
     "start_time": "2023-06-30T14:56:00.726465658Z"
    },
    "collapsed": false
   },
   "outputs": [
    {
     "name": "stdout",
     "output_type": "stream",
     "text": [
      "Number of missing values:\n"
     ]
    },
    {
     "data": {
      "text/plain": [
       "share 1-person households       31\n",
       "share 2-person households       18\n",
       "share 3-person households       57\n",
       "share 4-person households       84\n",
       "share 5-person households      534\n",
       "share 6+-person households    1317\n",
       "count households                 1\n",
       "dtype: int64"
      ]
     },
     "metadata": {},
     "output_type": "display_data"
    },
    {
     "name": "stdout",
     "output_type": "stream",
     "text": [
      "There are 1 remaining municipalities with NaN values.\n"
     ]
    },
    {
     "data": {
      "text/html": [
       "<div>\n",
       "<style scoped>\n",
       "    .dataframe tbody tr th:only-of-type {\n",
       "        vertical-align: middle;\n",
       "    }\n",
       "\n",
       "    .dataframe tbody tr th {\n",
       "        vertical-align: top;\n",
       "    }\n",
       "\n",
       "    .dataframe thead th {\n",
       "        text-align: right;\n",
       "    }\n",
       "</style>\n",
       "<table border=\"1\" class=\"dataframe\">\n",
       "  <thead>\n",
       "    <tr style=\"text-align: right;\">\n",
       "      <th></th>\n",
       "      <th>state</th>\n",
       "      <th>nuts2 region</th>\n",
       "      <th>county</th>\n",
       "      <th>municipality</th>\n",
       "      <th>name</th>\n",
       "      <th>count households</th>\n",
       "      <th>share 1-person households</th>\n",
       "      <th>share 2-person households</th>\n",
       "      <th>share 3-person households</th>\n",
       "      <th>share 4-person households</th>\n",
       "      <th>share 5-person households</th>\n",
       "      <th>share 6+-person households</th>\n",
       "      <th>Official municipality code (AGS)</th>\n",
       "    </tr>\n",
       "  </thead>\n",
       "  <tbody>\n",
       "    <tr>\n",
       "      <th>4581</th>\n",
       "      <td>07</td>\n",
       "      <td>2</td>\n",
       "      <td>31</td>\n",
       "      <td>021</td>\n",
       "      <td>Dierfeld</td>\n",
       "      <td>NaN</td>\n",
       "      <td>NaN</td>\n",
       "      <td>NaN</td>\n",
       "      <td>NaN</td>\n",
       "      <td>NaN</td>\n",
       "      <td>NaN</td>\n",
       "      <td>NaN</td>\n",
       "      <td>7231021</td>\n",
       "    </tr>\n",
       "  </tbody>\n",
       "</table>\n",
       "</div>"
      ],
      "text/plain": [
       "     state nuts2 region county municipality      name  count households  \\\n",
       "4581    07            2     31          021  Dierfeld               NaN   \n",
       "\n",
       "      share 1-person households  share 2-person households  \\\n",
       "4581                        NaN                        NaN   \n",
       "\n",
       "      share 3-person households  share 4-person households  \\\n",
       "4581                        NaN                        NaN   \n",
       "\n",
       "      share 5-person households  share 6+-person households  \\\n",
       "4581                        NaN                         NaN   \n",
       "\n",
       "      Official municipality code (AGS)  \n",
       "4581                           7231021  "
      ]
     },
     "metadata": {},
     "output_type": "display_data"
    }
   ],
   "source": [
    "df_hh_size_raw = pd.read_csv(\n",
    "    \"data/raw_data/descriptive_features/csv_HaushalteFamilien/Zensus11_Datensatz_Haushalte.csv\",\n",
    "    sep=\";\",\n",
    "    encoding=\"iso8859_15\",\n",
    "    na_values=\"-\",\n",
    "    dtype={\n",
    "        \"RS_Land\": \"str\",\n",
    "        \"RS_RB_NUTS2\": \"str\",\n",
    "        \"RS_Kreis\": \"str\",\n",
    "        \"RS_Gem\": \"str\",\n",
    "        \"HH_3.1\": \"str\",\n",
    "        \"HH_3.2\": \"str\",\n",
    "        \"HH_3.3\": \"str\",\n",
    "        \"HH_3.4\": \"str\",\n",
    "        \"HH_3.5\": \"str\",\n",
    "        \"HH_3.6\": \"str\",\n",
    "        \"HH_3.7\": \"str\",\n",
    "    },\n",
    "    usecols=[\n",
    "        \"RS_Land\",\n",
    "        \"RS_RB_NUTS2\",\n",
    "        \"RS_Kreis\",\n",
    "        \"RS_Gem\",\n",
    "        \"Name\",\n",
    "        \"HH_3.1\",\n",
    "        \"HH_3.2\",\n",
    "        \"HH_3.3\",\n",
    "        \"HH_3.4\",\n",
    "        \"HH_3.5\",\n",
    "        \"HH_3.6\",\n",
    "        \"HH_3.7\",\n",
    "    ]\n",
    ")\n",
    "df_hh_size_raw.rename(\n",
    "    {\n",
    "        \"RS_Land\": col_state_code,\n",
    "        \"RS_RB_NUTS2\": col_nuts2_code,\n",
    "        \"RS_Kreis\": col_county_code,\n",
    "        \"RS_Gem\": col_m_code,\n",
    "        \"Name\": col_name_zensus,\n",
    "        \"HH_3.1\": col_count_households,\n",
    "        \"HH_3.2\": col_count_one_p,\n",
    "        \"HH_3.3\": col_count_two_p,\n",
    "        \"HH_3.4\": col_count_three_p,\n",
    "        \"HH_3.5\": col_count_four_p,\n",
    "        \"HH_3.6\": col_count_five_p,\n",
    "        \"HH_3.7\": col_count_six_more_p,\n",
    "    },\n",
    "    axis=1,\n",
    "    inplace=True\n",
    ")\n",
    "\n",
    "# only consider municipalities\n",
    "df_hh_m_raw = df_hh_size_raw[df_hh_size_raw[col_m_code].notna()]\n",
    "df_hh_m_raw[col_id_m] = (\n",
    "    df_hh_m_raw[col_state_code]\n",
    "    + df_hh_m_raw[col_nuts2_code]\n",
    "    + df_hh_m_raw[col_county_code]\n",
    "    + df_hh_m_raw[col_m_code]\n",
    ")\n",
    "df_hh_m_raw[col_id_m] = df_hh_m_raw[col_id_m].astype(int)\n",
    "\n",
    "# remove parenthesis (incidating imprecise values due to privacy constraints)\n",
    "df_hh_m_raw[[col_count_households] + col_num_hh_size] = df_hh_m_raw[\n",
    "    [col_count_households] + col_num_hh_size\n",
    "].replace({r\"\\(\": \"\", r\"\\)\": \"\"}, regex=True)\n",
    "df_hh_m_raw[[col_count_households] + col_num_hh_size] = df_hh_m_raw[\n",
    "    [col_count_households] + col_num_hh_size\n",
    "].astype(float)\n",
    "\n",
    "# check that dataset does not contain negative values (indicating imprecise values due to privacy constraints)\n",
    "assert (\n",
    "    df_hh_m_raw[col_num_hh_size + [col_count_households]] < 0\n",
    ").sum().sum() == 0, \"Attention: Dataframe contains negative values. Check if they indicate imprecise values due to privacy issues.\"\n",
    "\n",
    "print('Number of missing values:')\n",
    "display(df_hh_m_raw[col_num_hh_size + [col_count_households]].isna().sum())\n",
    "# handle NaNs: check whether the number of households with a specific number of residents sum up to number of all households\n",
    "# if so, replace NaN by 0\n",
    "for hh_size in col_num_hh_size:\n",
    "    df_hh_m_raw.loc[df_hh_m_raw[hh_size].isna(), hh_size] = df_hh_m_raw.apply(\n",
    "        lambda municipality: 0\n",
    "        if municipality[col_count_households] == municipality[col_num_hh_size].sum()\n",
    "        else np.nan,\n",
    "        axis=1,\n",
    "    )\n",
    "\n",
    "print(\n",
    "    f\"There are {df_hh_m_raw[col_num_hh_size].isna().any(axis=1).sum()} remaining municipalities with NaN values.\"\n",
    ")\n",
    "display(df_hh_m_raw[df_hh_m_raw[col_num_hh_size].isna().any(axis=1)])\n",
    "# drop Dierfeld which is the only m with NaNs (for all household variables)\n",
    "df_hh_m_raw = df_hh_m_raw[df_hh_m_raw[col_num_hh_size].notna().all(axis=1)]"
   ]
  },
  {
   "cell_type": "code",
   "execution_count": 10,
   "metadata": {
    "ExecuteTime": {
     "end_time": "2023-06-30T14:56:32.056897089Z",
     "start_time": "2023-06-30T14:56:30.200518434Z"
    },
    "collapsed": false
   },
   "outputs": [
    {
     "name": "stdout",
     "output_type": "stream",
     "text": [
      "There are 0 municipality associations that are not included in the ownership occupation data.\n",
      "All municipality associations of the INKAR dataset are also included in this dataframe.\n"
     ]
    }
   ],
   "source": [
    "df_hh_m = df_hh_m_raw[[col_id_m, col_count_households] + col_num_hh_size]\n",
    "\n",
    "df_map_m_to_ma = pd.read_csv(\n",
    "    \"data/intermediate_data/mapping_municipalities_2011_2019.csv\", sep=\";\"\n",
    ")\n",
    "df_hh_m = df_hh_m.merge(df_map_m_to_ma, on=col_id_m, how=\"left\")\n",
    "\n",
    "# check if there is an ma assignes to each m\n",
    "assert (\n",
    "    df_hh_m[col_id_ma].isna().sum() == 0\n",
    "), \"Attention: There is no assignes ma for some m.\"\n",
    "\n",
    "df_hh_ma = pd.DataFrame(df_hh_m.groupby(by=col_id_ma, as_index=False).sum())\n",
    "\n",
    "for hh_size in col_num_hh_size:\n",
    "    df_hh_ma[hh_size] = df_hh_ma[hh_size] / df_hh_ma[col_count_households] * 100\n",
    "df_hh_ma.drop([col_id_m], inplace=True, axis=1)\n",
    "\n",
    "# check that dataframe covers all ma's given by inkar\n",
    "check_completeness_ma(df_hh_ma, col_id_ma, col_name_ma)\n",
    "\n",
    "df_hh_ma.to_csv(\n",
    "    \"data/intermediate_data/preprocessed_household_sizes_with_hh_counts.csv\",\n",
    "    sep=\";\",\n",
    "    index=False,\n",
    ")"
   ]
  }
 ],
 "metadata": {
  "kernelspec": {
   "display_name": "Python 3.10.4 ('Code_MA')",
   "language": "python",
   "name": "python3"
  },
  "language_info": {
   "codemirror_mode": {
    "name": "ipython",
    "version": 3
   },
   "file_extension": ".py",
   "mimetype": "text/x-python",
   "name": "python",
   "nbconvert_exporter": "python",
   "pygments_lexer": "ipython3",
   "version": "3.12.4"
  },
  "vscode": {
   "interpreter": {
    "hash": "b613dc40fac86ff58295ba1cda88acfba16196186bb7edb5fefaa45d0102d41d"
   }
  }
 },
 "nbformat": 4,
 "nbformat_minor": 0
}
