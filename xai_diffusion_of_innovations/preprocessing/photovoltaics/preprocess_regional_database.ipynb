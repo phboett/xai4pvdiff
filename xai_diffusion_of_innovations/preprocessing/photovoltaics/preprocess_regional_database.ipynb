{
 "cells": [
  {
   "cell_type": "code",
   "execution_count": 1,
   "metadata": {
    "ExecuteTime": {
     "end_time": "2023-06-30T15:15:26.202113697Z",
     "start_time": "2023-06-30T15:15:26.111046649Z"
    },
    "collapsed": true
   },
   "outputs": [],
   "source": [
    "import os\n",
    "import numpy as np\n",
    "import pandas as pd\n",
    "\n",
    "os.chdir(\"../..\")\n",
    "from utils.utils import *\n",
    "os.chdir(\"..\")\n",
    "\n",
    "pd.options.mode.chained_assignment = None"
   ]
  },
  {
   "cell_type": "code",
   "execution_count": 2,
   "metadata": {
    "ExecuteTime": {
     "end_time": "2023-06-30T15:15:26.202420400Z",
     "start_time": "2023-06-30T15:15:26.156441896Z"
    },
    "collapsed": false
   },
   "outputs": [],
   "source": [
    "# display entire dataframes instead of contractions\n",
    "pd.set_option(\"display.max_rows\", None)"
   ]
  },
  {
   "cell_type": "code",
   "execution_count": 3,
   "metadata": {
    "ExecuteTime": {
     "end_time": "2023-06-30T15:15:26.202556677Z",
     "start_time": "2023-06-30T15:15:26.156550749Z"
    },
    "collapsed": false
   },
   "outputs": [],
   "source": [
    "list_voters_cols = [col_eligible_voters, col_electoral_turnout, col_vote_count_total]\n",
    "parties = [\n",
    "    col_vote_count_cdu,\n",
    "    col_vote_count_spd,\n",
    "    col_vote_count_green,\n",
    "    col_vote_count_fdp,\n",
    "    col_vote_count_left,\n",
    "    col_vote_count_afd,\n",
    "    col_vote_count_other,\n",
    "]\n",
    "col_names = (\n",
    "    [col_id_regionalstatistik, col_name_regionalstatistik] + list_voters_cols + parties\n",
    ")\n",
    "col_names_import = [\"Date\"] + col_names"
   ]
  },
  {
   "cell_type": "code",
   "execution_count": 4,
   "metadata": {
    "ExecuteTime": {
     "end_time": "2023-06-30T15:15:26.203754361Z",
     "start_time": "2023-06-30T15:15:26.156618927Z"
    },
    "collapsed": false
   },
   "outputs": [],
   "source": [
    "df_votes_raw = pd.read_csv(\n",
    "    \"data/raw_data/descriptive_features/regiostat_bundestagswahl_changed_encoding.csv\",\n",
    "    sep=\"\\t\",\n",
    "    encoding=\"iso8859_15\",\n",
    "    skiprows=9,\n",
    "    header=0,\n",
    "    names=col_names_import,\n",
    "    na_values=\"-\",\n",
    "    decimal=\",\",\n",
    "    index_col=False,\n",
    ")\n",
    "# drop date column\n",
    "df_votes_raw = df_votes_raw[col_names]\n",
    "# drop last four rows as they only consist of NaNs\n",
    "df_votes_raw = df_votes_raw.iloc[:-4]"
   ]
  },
  {
   "cell_type": "code",
   "execution_count": 5,
   "metadata": {
    "ExecuteTime": {
     "end_time": "2023-06-30T15:15:26.229459576Z",
     "start_time": "2023-06-30T15:15:26.184247576Z"
    },
    "collapsed": false
   },
   "outputs": [],
   "source": [
    "df_votes_raw[list_voters_cols + parties] = df_votes_raw[\n",
    "    list_voters_cols + parties\n",
    "].apply(pd.to_numeric)\n",
    "df_votes_raw[col_id_regionalstatistik] = df_votes_raw[col_id_regionalstatistik].astype(\n",
    "    int\n",
    ")\n",
    "\n",
    "# create dataframe with data of city states, is merged to remaining data later\n",
    "df_city_states = df_votes_raw[\n",
    "    df_votes_raw[col_id_regionalstatistik].isin([11, 2, 4011, 4012])\n",
    "]\n",
    "df_city_states.rename(\n",
    "    {col_id_regionalstatistik: col_id_ma, col_name_regionalstatistik: col_name_ma},\n",
    "    axis=1,\n",
    "    inplace=True,\n",
    ")\n",
    "# Berlin\n",
    "df_city_states.loc[df_city_states[col_id_ma] == 11, col_id_ma] = 110000000\n",
    "# Hamburg\n",
    "df_city_states.loc[df_city_states[col_id_ma] == 2, col_id_ma] = 20000000\n",
    "# Bremen\n",
    "df_city_states.loc[df_city_states[col_id_ma] == 4011, col_id_ma] = 40110000\n",
    "# Bremerhaven\n",
    "df_city_states.loc[df_city_states[col_id_ma] == 4012, col_id_ma] = 40120000\n",
    "\n",
    "# drop all cities and counties (incl. city states)\n",
    "df_votes_wo_cities = df_votes_raw[df_votes_raw[col_id_regionalstatistik] >= 1000000]\n",
    "# drop districts of Berlin\n",
    "df_votes_wo_cities = df_votes_wo_cities[\n",
    "    ~df_votes_wo_cities[col_name_regionalstatistik].str.contains(\"Berlin-\")\n",
    "]\n",
    "\n",
    "df_votes_wo_cities.rename(\n",
    "    {col_id_regionalstatistik: col_id_m, col_name_regionalstatistik: col_name_m},\n",
    "    axis=1,\n",
    "    inplace=True,\n",
    ")"
   ]
  },
  {
   "cell_type": "code",
   "execution_count": 6,
   "metadata": {
    "ExecuteTime": {
     "end_time": "2023-06-30T15:15:26.229766458Z",
     "start_time": "2023-06-30T15:15:26.224572169Z"
    },
    "collapsed": false
   },
   "outputs": [
    {
     "name": "stdout",
     "output_type": "stream",
     "text": [
      "There are 13384 municipalities considered in the dataframe.\n",
      "2704 municipalities have at least one relevant value missing.\n",
      "Regionalstatistik does not provide any election data for 2444 of those municipalities.\n"
     ]
    }
   ],
   "source": [
    "print(\n",
    "    f\"There are {df_votes_wo_cities.shape[0]} municipalities considered in the dataframe.\"\n",
    ")\n",
    "print(\n",
    "    f\"{df_votes_wo_cities[parties + [col_electoral_turnout, col_eligible_voters, col_vote_count_total]].isna().any(axis=1).sum()} municipalities have at least one relevant value missing.\"\n",
    ")\n",
    "print(\n",
    "    f\"Regionalstatistik does not provide any election data for {df_votes_wo_cities[parties].isna().all(axis=1).sum()} of those municipalities.\"\n",
    ")"
   ]
  },
  {
   "cell_type": "code",
   "execution_count": 7,
   "metadata": {
    "ExecuteTime": {
     "end_time": "2023-06-30T15:15:26.229897089Z",
     "start_time": "2023-06-30T15:15:26.224784398Z"
    },
    "collapsed": false
   },
   "outputs": [],
   "source": [
    "# drop all municipalities with NaN for all vote count of parties\n",
    "df_votes_wo_cities = df_votes_wo_cities[df_votes_wo_cities[parties].notna().any(axis=1)]"
   ]
  },
  {
   "cell_type": "code",
   "execution_count": 8,
   "metadata": {
    "ExecuteTime": {
     "end_time": "2023-06-30T15:15:59.203792681Z",
     "start_time": "2023-06-30T15:15:26.268729227Z"
    },
    "collapsed": false
   },
   "outputs": [
    {
     "name": "stdout",
     "output_type": "stream",
     "text": [
      "There are 0 remaining missing values in the dataframe.\n"
     ]
    }
   ],
   "source": [
    "# check if voters for parties sum up to total vote count. If so, replace the NaNs with 0.\n",
    "for party in parties:\n",
    "    df_votes_wo_cities.loc[\n",
    "        df_votes_wo_cities[party].isna(), party\n",
    "    ] = df_votes_wo_cities.apply(\n",
    "        lambda row: 0 if row[col_vote_count_total] == row[parties].sum() else np.nan,\n",
    "        axis=1,\n",
    "    )\n",
    "print(\n",
    "    f\"There are {df_votes_wo_cities.isna().sum().sum()} remaining missing values in the dataframe.\"\n",
    ")"
   ]
  },
  {
   "cell_type": "code",
   "execution_count": 9,
   "metadata": {
    "ExecuteTime": {
     "end_time": "2023-06-30T15:15:59.204402411Z",
     "start_time": "2023-06-30T15:15:59.200476457Z"
    },
    "collapsed": false
   },
   "outputs": [
    {
     "data": {
      "text/html": [
       "<div>\n",
       "<style scoped>\n",
       "    .dataframe tbody tr th:only-of-type {\n",
       "        vertical-align: middle;\n",
       "    }\n",
       "\n",
       "    .dataframe tbody tr th {\n",
       "        vertical-align: top;\n",
       "    }\n",
       "\n",
       "    .dataframe thead th {\n",
       "        text-align: right;\n",
       "    }\n",
       "</style>\n",
       "<table border=\"1\" class=\"dataframe\">\n",
       "  <thead>\n",
       "    <tr style=\"text-align: right;\">\n",
       "      <th></th>\n",
       "      <th>Official municipality code (AGS)</th>\n",
       "      <th>Municipality name</th>\n",
       "      <th>count eligible voters</th>\n",
       "      <th>electoral turnout (percentage)</th>\n",
       "      <th>valid vote count</th>\n",
       "      <th>CDU/CSU</th>\n",
       "      <th>SPD</th>\n",
       "      <th>The Greens</th>\n",
       "      <th>FDP</th>\n",
       "      <th>The Left</th>\n",
       "      <th>AfD</th>\n",
       "      <th>other parties</th>\n",
       "      <th>Name of municipality ass.</th>\n",
       "      <th>Code of municipality associations (RS)</th>\n",
       "    </tr>\n",
       "  </thead>\n",
       "  <tbody>\n",
       "    <tr>\n",
       "      <th>0</th>\n",
       "      <td>1051001</td>\n",
       "      <td>Albersdorf</td>\n",
       "      <td>2755.0</td>\n",
       "      <td>59.9</td>\n",
       "      <td>1638.0</td>\n",
       "      <td>656.0</td>\n",
       "      <td>344.0</td>\n",
       "      <td>133.0</td>\n",
       "      <td>229.0</td>\n",
       "      <td>99.0</td>\n",
       "      <td>138.0</td>\n",
       "      <td>39.0</td>\n",
       "      <td>Mitteldithmarschen</td>\n",
       "      <td>10515175.0</td>\n",
       "    </tr>\n",
       "    <tr>\n",
       "      <th>1</th>\n",
       "      <td>1051002</td>\n",
       "      <td>Arkebek</td>\n",
       "      <td>160.0</td>\n",
       "      <td>68.8</td>\n",
       "      <td>109.0</td>\n",
       "      <td>49.0</td>\n",
       "      <td>14.0</td>\n",
       "      <td>13.0</td>\n",
       "      <td>18.0</td>\n",
       "      <td>2.0</td>\n",
       "      <td>9.0</td>\n",
       "      <td>4.0</td>\n",
       "      <td>Mitteldithmarschen</td>\n",
       "      <td>10515175.0</td>\n",
       "    </tr>\n",
       "    <tr>\n",
       "      <th>2</th>\n",
       "      <td>1051003</td>\n",
       "      <td>Averlak</td>\n",
       "      <td>490.0</td>\n",
       "      <td>56.3</td>\n",
       "      <td>274.0</td>\n",
       "      <td>101.0</td>\n",
       "      <td>76.0</td>\n",
       "      <td>18.0</td>\n",
       "      <td>37.0</td>\n",
       "      <td>5.0</td>\n",
       "      <td>26.0</td>\n",
       "      <td>11.0</td>\n",
       "      <td>Burg-St. Michaelisdonn</td>\n",
       "      <td>10515163.0</td>\n",
       "    </tr>\n",
       "    <tr>\n",
       "      <th>3</th>\n",
       "      <td>1051004</td>\n",
       "      <td>Bargenstedt</td>\n",
       "      <td>745.0</td>\n",
       "      <td>62.8</td>\n",
       "      <td>465.0</td>\n",
       "      <td>206.0</td>\n",
       "      <td>101.0</td>\n",
       "      <td>25.0</td>\n",
       "      <td>51.0</td>\n",
       "      <td>34.0</td>\n",
       "      <td>37.0</td>\n",
       "      <td>11.0</td>\n",
       "      <td>Mitteldithmarschen</td>\n",
       "      <td>10515175.0</td>\n",
       "    </tr>\n",
       "    <tr>\n",
       "      <th>4</th>\n",
       "      <td>1051005</td>\n",
       "      <td>Barkenholm</td>\n",
       "      <td>143.0</td>\n",
       "      <td>78.3</td>\n",
       "      <td>110.0</td>\n",
       "      <td>39.0</td>\n",
       "      <td>24.0</td>\n",
       "      <td>8.0</td>\n",
       "      <td>16.0</td>\n",
       "      <td>4.0</td>\n",
       "      <td>19.0</td>\n",
       "      <td>0.0</td>\n",
       "      <td>Eider</td>\n",
       "      <td>10515169.0</td>\n",
       "    </tr>\n",
       "  </tbody>\n",
       "</table>\n",
       "</div>"
      ],
      "text/plain": [
       "   Official municipality code (AGS)    Municipality name  \\\n",
       "0                           1051001           Albersdorf   \n",
       "1                           1051002              Arkebek   \n",
       "2                           1051003              Averlak   \n",
       "3                           1051004          Bargenstedt   \n",
       "4                           1051005           Barkenholm   \n",
       "\n",
       "   count eligible voters  electoral turnout (percentage)  valid vote count  \\\n",
       "0                 2755.0                            59.9            1638.0   \n",
       "1                  160.0                            68.8             109.0   \n",
       "2                  490.0                            56.3             274.0   \n",
       "3                  745.0                            62.8             465.0   \n",
       "4                  143.0                            78.3             110.0   \n",
       "\n",
       "   CDU/CSU    SPD  The Greens    FDP  The Left    AfD  other parties  \\\n",
       "0    656.0  344.0       133.0  229.0      99.0  138.0           39.0   \n",
       "1     49.0   14.0        13.0   18.0       2.0    9.0            4.0   \n",
       "2    101.0   76.0        18.0   37.0       5.0   26.0           11.0   \n",
       "3    206.0  101.0        25.0   51.0      34.0   37.0           11.0   \n",
       "4     39.0   24.0         8.0   16.0       4.0   19.0            0.0   \n",
       "\n",
       "  Name of municipality ass.  Code of municipality associations (RS)  \n",
       "0        Mitteldithmarschen                              10515175.0  \n",
       "1        Mitteldithmarschen                              10515175.0  \n",
       "2    Burg-St. Michaelisdonn                              10515163.0  \n",
       "3        Mitteldithmarschen                              10515175.0  \n",
       "4                     Eider                              10515169.0  "
      ]
     },
     "metadata": {},
     "output_type": "display_data"
    }
   ],
   "source": [
    "# import and add mapping of municipalities to municipality associations\n",
    "df_map_m_to_ma = pd.read_csv(\n",
    "    \"data/intermediate_data/mapping_municipalities_2017_2019.csv\",\n",
    "    sep=\";\",\n",
    "    usecols=[col_id_m, col_id_ma, col_name_ma],\n",
    ")\n",
    "df_votes_to_merge = df_votes_wo_cities.copy()\n",
    "df_votes_incl_map = df_votes_to_merge.merge(df_map_m_to_ma, on=col_id_m, how=\"left\")\n",
    "assert (\n",
    "    df_votes_incl_map[col_id_ma].isna().sum() == 0\n",
    "), \"Attention: Not all municipalities are considered in the mapping to municipality associations.\"\n",
    "display(df_votes_incl_map.head())"
   ]
  },
  {
   "cell_type": "code",
   "execution_count": 10,
   "metadata": {
    "ExecuteTime": {
     "end_time": "2023-06-30T15:16:02.966696890Z",
     "start_time": "2023-06-30T15:15:59.201169205Z"
    },
    "collapsed": false
   },
   "outputs": [
    {
     "name": "stdout",
     "output_type": "stream",
     "text": [
      "Election data is missing for 102 municipality associations. Examination of the municipality associations revealed that data is missing for cities. Fixing these cities.\n"
     ]
    }
   ],
   "source": [
    "df_votes_incl_map.drop([col_id_m, col_name_m], axis=1, inplace=True)\n",
    "df_election_ma = pd.DataFrame(\n",
    "    df_votes_incl_map.groupby(by=col_id_ma, as_index=False).agg(\n",
    "        {\n",
    "            col_name_ma: \"unique\",\n",
    "            col_eligible_voters: \"sum\",\n",
    "            col_electoral_turnout: \"sum\",\n",
    "            col_vote_count_total: \"sum\",\n",
    "            col_vote_count_cdu: \"sum\",\n",
    "            col_vote_count_spd: \"sum\",\n",
    "            col_vote_count_green: \"sum\",\n",
    "            col_vote_count_fdp: \"sum\",\n",
    "            col_vote_count_left: \"sum\",\n",
    "            col_vote_count_afd: \"sum\",\n",
    "            col_vote_count_other: \"sum\",\n",
    "        }\n",
    "    )\n",
    ")\n",
    "df_election_ma[col_name_ma] = df_election_ma[col_name_ma].apply(\n",
    "    lambda ma_name: ma_name[0]\n",
    ")\n",
    "df_election_ma = pd.concat([df_election_ma, df_city_states], ignore_index=True)\n",
    "\n",
    "# check if df_election_ma includes election data for all ma's contained in inkar dataset\n",
    "df_ma_in_inkar = pd.read_csv(\n",
    "    \"data/intermediate_data/preprocessed_inkar_data.csv\", sep=\";\", usecols=[col_id_ma]\n",
    ")\n",
    "list_missing_ids_cities = [\n",
    "    int(ma / 10000)\n",
    "    for ma in list(df_ma_in_inkar[col_id_ma])\n",
    "    if ma not in list(df_election_ma[col_id_ma])\n",
    "]\n",
    "print(\n",
    "    f\"Election data is missing for {len(list_missing_ids_cities)} municipality associations. Examination of the municipality associations revealed that data is missing for cities. Fixing these cities.\"\n",
    ")\n",
    "# RS/10000 yields the city ids\n",
    "\n",
    "df_missing_election_data_cities = df_votes_raw.loc[\n",
    "    df_votes_raw[col_id_regionalstatistik].isin(list_missing_ids_cities),\n",
    "    [col_id_regionalstatistik, col_name_regionalstatistik] + list_voters_cols + parties,\n",
    "]\n",
    "\n",
    "# transfer the keys/ ids of cities to RS of municipality associations\n",
    "df_missing_election_data_cities[col_id_regionalstatistik] = (\n",
    "    df_missing_election_data_cities[col_id_regionalstatistik] * 10000\n",
    ")\n",
    "\n",
    "df_missing_election_data_cities.rename(\n",
    "    {col_id_regionalstatistik: col_id_ma, col_name_regionalstatistik: col_name_ma},\n",
    "    axis=1,\n",
    "    inplace=True,\n",
    ")\n",
    "\n",
    "df_election_ma = pd.concat(\n",
    "    [df_election_ma, df_missing_election_data_cities], ignore_index=True\n",
    ")\n",
    "\n",
    "df_election_ma[col_id_ma] = df_election_ma[col_id_ma].astype(int)\n",
    "\n",
    "assert (\n",
    "    len(\n",
    "        [\n",
    "            1\n",
    "            for ma in list(df_ma_in_inkar[col_id_ma])\n",
    "            if ma not in list(df_election_ma[col_id_ma])\n",
    "        ]\n",
    "    )\n",
    "    == 0\n",
    "), \"Election data is not available for all municipality associations.\""
   ]
  },
  {
   "cell_type": "code",
   "execution_count": 11,
   "metadata": {
    "ExecuteTime": {
     "end_time": "2023-06-30T15:16:03.022697213Z",
     "start_time": "2023-06-30T15:16:02.969657291Z"
    },
    "collapsed": false
   },
   "outputs": [],
   "source": [
    "# consider percentages of voters instead of absolute numbers\n",
    "for party in parties:\n",
    "    df_election_ma[party] = (\n",
    "        df_election_ma[party] / df_election_ma[col_vote_count_total] * 100\n",
    "    )\n",
    "df_election_ma.to_csv(\n",
    "    \"data/intermediate_data/preprocessed_election_data.csv\", index=False, sep=\";\"\n",
    ")"
   ]
  }
 ],
 "metadata": {
  "kernelspec": {
   "display_name": "Python 3.10.4 ('Code_MA')",
   "language": "python",
   "name": "python3"
  },
  "language_info": {
   "codemirror_mode": {
    "name": "ipython",
    "version": 3
   },
   "file_extension": ".py",
   "mimetype": "text/x-python",
   "name": "python",
   "nbconvert_exporter": "python",
   "pygments_lexer": "ipython3",
   "version": "3.12.4"
  },
  "vscode": {
   "interpreter": {
    "hash": "b613dc40fac86ff58295ba1cda88acfba16196186bb7edb5fefaa45d0102d41d"
   }
  }
 },
 "nbformat": 4,
 "nbformat_minor": 0
}
