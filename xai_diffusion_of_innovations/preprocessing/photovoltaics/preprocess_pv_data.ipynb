{
 "cells": [
  {
   "cell_type": "code",
   "execution_count": 1,
   "metadata": {
    "ExecuteTime": {
     "end_time": "2023-06-30T15:43:06.586533883Z",
     "start_time": "2023-06-30T15:43:06.529339627Z"
    },
    "collapsed": true
   },
   "outputs": [],
   "source": [
    "import os\n",
    "import pandas as pd\n",
    "import numpy as np\n",
    "import glob\n",
    "import re\n",
    "\n",
    "os.chdir(\"../..\")\n",
    "from utils.utils import *\n",
    "os.chdir(\"..\")\n",
    "\n",
    "pd.options.mode.chained_assignment = None"
   ]
  },
  {
   "cell_type": "code",
   "execution_count": 2,
   "metadata": {
    "ExecuteTime": {
     "end_time": "2023-06-30T15:43:06.586855962Z",
     "start_time": "2023-06-30T15:43:06.572622411Z"
    },
    "collapsed": false
   },
   "outputs": [],
   "source": [
    "# parameter values of pv systems considered\n",
    "\n",
    "# commissioning date must lie in [t_start, t_end]\n",
    "# t_start = 0 -> accumulate over all t until t_end\n",
    "t_start = 0\n",
    "t_end = 2021\n",
    "# net nominal capacity must be smaller or equal to max_nom_cap\n",
    "max_nom_cap = 10"
   ]
  },
  {
   "cell_type": "code",
   "execution_count": 3,
   "metadata": {
    "ExecuteTime": {
     "end_time": "2023-06-30T15:43:06.587022883Z",
     "start_time": "2023-06-30T15:43:06.572790549Z"
    },
    "collapsed": false
   },
   "outputs": [],
   "source": [
    "def add_pv_m_over_t(\n",
    "    t_start, t_end, pow, col_id_m, col_name_m, col_count_pv, col_power_accum_pv\n",
    "):\n",
    "    \"\"\"\n",
    "    Adds up annually installed power/net nominal capacity of PV systems in municipalities. Returns a dataframe containing number and accumulated net nominal capacity of pv systems on municipality-level with a commissioning date between year \"t_start\" and \"t_end\" (i.e. [t_start,t_end]) and a maximum net nominal capacity of \"pow\".\n",
    "    @param t_start: beginning of time interval for considered commissioning dates\n",
    "    @param t_end: end of time interval for considered commissioning dates\n",
    "    @param pow: maximum net nominal capacity considered\n",
    "    @param col_id_m: ags of municipalities\n",
    "    @param col_name_m: names of municipalities\n",
    "    @param col_count_pv: number of pv systems of a municipality\n",
    "    @param col_power_accum_pv: accumulated net nominal capacity of all systems within a municipality\n",
    "    @return: dataframe with number of pv system and accum. net nominal capacity for all municipalities. Systems considered: Comissioning date in [t_start, t_end], net nominal capacity smaller or equal to pow. Municipalities as rows.\n",
    "    \"\"\"\n",
    "    if t_start == t_end:\n",
    "        return pd.read_csv(\n",
    "            f\"data/intermediate_data/PV_in_municipalities/pv_m_{t_end}_max_{pow}.csv\",\n",
    "            sep=\";\",\n",
    "            usecols=[col_id_m, col_name_m, col_count_pv, col_power_accum_pv],\n",
    "        )\n",
    "    else:\n",
    "        csv_list = glob.glob(\n",
    "            f\"data/intermediate_data/PV_in_municipalities/pv_m_*_max_{pow}.csv\"\n",
    "        )\n",
    "        list_years = np.array(\n",
    "            [int(re.findall(\"[0-9]{4}\", file_name)[0]) for file_name in csv_list]\n",
    "        )\n",
    "        df_pv_m_add = pd.DataFrame(\n",
    "            columns=[col_id_m, col_name_m, col_count_pv, col_power_accum_pv]\n",
    "        )\n",
    "        for year in list_years[(list_years >= t_start) & (list_years <= t_end)]:\n",
    "            df_temp = pd.read_csv(\n",
    "                        f\"data/intermediate_data/PV_in_municipalities/pv_m_{year}_max_{pow}.csv\",\n",
    "                        sep=\";\",\n",
    "                        usecols=[\n",
    "                            col_id_m,\n",
    "                            col_name_m,\n",
    "                            col_count_pv,\n",
    "                            col_power_accum_pv,\n",
    "                        ],\n",
    "                    )\n",
    "            if not df_temp.empty:\n",
    "                df_pv_m_add = pd.concat(\n",
    "                    [df_pv_m_add, df_temp],\n",
    "                    ignore_index=True,\n",
    "                )\n",
    "        df_pv_m_accum = pd.DataFrame(\n",
    "            df_pv_m_add.groupby(by=col_id_m, as_index=False).agg(\n",
    "                {col_name_m: \"unique\", col_count_pv: \"sum\", col_power_accum_pv: \"sum\"}\n",
    "            )\n",
    "        )\n",
    "        df_pv_m_accum[col_name_m] = df_pv_m_accum[col_name_m].apply(\n",
    "            lambda elem: elem[0]\n",
    "        )\n",
    "        return df_pv_m_accum"
   ]
  },
  {
   "cell_type": "code",
   "execution_count": 4,
   "metadata": {
    "ExecuteTime": {
     "end_time": "2023-06-30T15:43:06.587163360Z",
     "start_time": "2023-06-30T15:43:06.572909892Z"
    },
    "collapsed": false
   },
   "outputs": [],
   "source": [
    "def aggregate_pv_ma(\n",
    "    df_pv_m,\n",
    "    df_map_m_to_ma,\n",
    "    col_id_m,\n",
    "    col_id_ma,\n",
    "    col_name_ma,\n",
    "    col_count_pv,\n",
    "    col_power_accum,\n",
    "):\n",
    "    \"\"\"\n",
    "    Transfer data on pv systems (count and accum. nominal capacity) from municipality-level to municipality association-level.\n",
    "    @param df_pv_m: Dataframe with pv data on municipality-level\n",
    "    @param df_map_m_to_ma: Dataframe giving mapping of m to ma\n",
    "    @param col_id_m: ags of municipalities\n",
    "    @param col_id_ma: rs of municipality associations\n",
    "    @param col_name_ma: names of municipality associations\n",
    "    @param col_count_pv: number of pv systems considered\n",
    "    @param col_power_accum: accumulated net nominal capacity of pv systems\n",
    "    @return: Dataframe with ma's as rows and data on pv systems as columns (count and accum. nominal capacity).\n",
    "    \"\"\"\n",
    "    df_pv_m_merged = df_pv_m.merge(\n",
    "        df_map_m_to_ma[[col_id_m, col_id_ma, col_name_ma]], on=col_id_m, how=\"left\"\n",
    "    )\n",
    "    assert (\n",
    "        df_pv_m_merged[col_id_ma].isna().sum() == 0\n",
    "    ), \"Some municipalities are not assigned to any municipal association.\"\n",
    "    df_pv_ma = pd.DataFrame(\n",
    "        df_pv_m_merged[[col_id_ma, col_name_ma, col_count_pv, col_power_accum]]\n",
    "        .groupby(by=col_id_ma, as_index=False)\n",
    "        .agg({col_name_ma: \"unique\", col_count_pv: \"sum\", col_power_accum: \"sum\"})\n",
    "    )\n",
    "    df_pv_ma[col_name_ma] = df_pv_ma[col_name_ma].apply(lambda elem: elem[0])\n",
    "    return df_pv_ma"
   ]
  },
  {
   "cell_type": "code",
   "execution_count": 5,
   "metadata": {
    "ExecuteTime": {
     "end_time": "2023-06-30T15:43:06.587304581Z",
     "start_time": "2023-06-30T15:43:06.578071781Z"
    },
    "collapsed": false
   },
   "outputs": [],
   "source": [
    "def get_pv_ma(\n",
    "    t_start,\n",
    "    t_end,\n",
    "    pow_max,\n",
    "    col_id_m=col_id_m,\n",
    "    col_name_m=col_name_m,\n",
    "    col_id_ma=col_id_ma,\n",
    "    col_name_ma=col_name_ma,\n",
    "    col_count_pv=col_count_pv,\n",
    "    col_power_accum_pv=col_power_accum_pv,\n",
    "):\n",
    "    \"\"\"\n",
    "    On the input of a time interval for the commissioning date and a maximum net nominal capacity, the function returns a dataframe with the number and accum. net nominal capacity of pv systems installed within municipality associations. It uses the mapping of m to ma given by \"mapping_m_to_ma_extended_2000_2019.csv\" which includes all changes in ags between 2000 and 2019.\n",
    "    @param t_start: Earliest year of commissioning dates for pv systems to be considered\n",
    "    @param t_end: Latest year of commissioning dates for pv systems to be considered\n",
    "    @param pow_max: Maximum net nominal capacity for pv systems to be considered\n",
    "    @return: Dataframe with count and accum. net nominal capacity of pv systems on level of municipality associations.\n",
    "    \"\"\"\n",
    "    df_accum_m = add_pv_m_over_t(\n",
    "        t_start=t_start,\n",
    "        t_end=t_end,\n",
    "        pow=pow_max,\n",
    "        col_id_m=col_id_m,\n",
    "        col_name_m=col_name_m,\n",
    "        col_count_pv=col_count_pv,\n",
    "        col_power_accum_pv=col_power_accum_pv,\n",
    "    )\n",
    "    df_map_m_to_ma = pd.read_csv(\n",
    "        \"data/intermediate_data/mapping_municipalities_2000_2019.csv\", sep=\";\"\n",
    "    )\n",
    "    df_accum_ma = aggregate_pv_ma(\n",
    "        df_accum_m,\n",
    "        df_map_m_to_ma,\n",
    "        col_id_m=col_id_m,\n",
    "        col_id_ma=col_id_ma,\n",
    "        col_name_ma=col_name_ma,\n",
    "        col_count_pv=col_count_pv,\n",
    "        col_power_accum=col_power_accum_pv,\n",
    "    )\n",
    "    return df_accum_ma"
   ]
  },
  {
   "cell_type": "code",
   "execution_count": 6,
   "metadata": {
    "ExecuteTime": {
     "end_time": "2023-06-30T15:43:08.053160486Z",
     "start_time": "2023-06-30T15:43:06.584947264Z"
    },
    "collapsed": false
   },
   "outputs": [
    {
     "name": "stderr",
     "output_type": "stream",
     "text": [
      "C:\\Users\\kisd\\AppData\\Local\\Temp\\ipykernel_18832\\3849234788.py:43: FutureWarning: The behavior of DataFrame concatenation with empty or all-NA entries is deprecated. In a future version, this will no longer exclude empty or all-NA columns when determining the result dtypes. To retain the old behavior, exclude the relevant entries before the concat operation.\n",
      "  df_pv_m_add = pd.concat(\n"
     ]
    }
   ],
   "source": [
    "df_pv_accum_ma = get_pv_ma(t_start=t_start, t_end=t_end, pow_max=max_nom_cap)\n",
    "df_pv_accum_ma.to_csv(\n",
    "    f\"data/intermediate_data/pv_ma_{t_start}_{t_end}_max_{max_nom_cap}.csv\",\n",
    "    sep=\";\",\n",
    "    index=False,\n",
    ")"
   ]
  }
 ],
 "metadata": {
  "kernelspec": {
   "display_name": "Python 3.10.4 ('Code_MA')",
   "language": "python",
   "name": "python3"
  },
  "language_info": {
   "codemirror_mode": {
    "name": "ipython",
    "version": 3
   },
   "file_extension": ".py",
   "mimetype": "text/x-python",
   "name": "python",
   "nbconvert_exporter": "python",
   "pygments_lexer": "ipython3",
   "version": "3.12.4"
  },
  "vscode": {
   "interpreter": {
    "hash": "b613dc40fac86ff58295ba1cda88acfba16196186bb7edb5fefaa45d0102d41d"
   }
  }
 },
 "nbformat": 4,
 "nbformat_minor": 0
}
